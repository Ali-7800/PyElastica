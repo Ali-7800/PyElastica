{
 "cells": [
  {
   "cell_type": "code",
   "execution_count": null,
   "metadata": {},
   "outputs": [],
   "source": [
    "import numpy as np\n",
    "import matplotlib.pyplot as plt\n",
    "import rod\n",
    "import positionVerlet2nd as verlet\n",
    "from povray_scripts import dump_snake"
   ]
  },
  {
   "cell_type": "markdown",
   "metadata": {},
   "source": [
    "# Initialize rod"
   ]
  },
  {
   "cell_type": "code",
   "execution_count": null,
   "metadata": {},
   "outputs": [],
   "source": [
    "nelem = 2\n",
    "L = 1.\n",
    "r0 = 0.25\n",
    "x = np.linspace(0.,0.8,nelem+1)\n",
    "ri = np.array([[i,3./40.*i, r0] if i <= 0.4 else [i,3./40.*(0.8-i), r0] for i in x])\n",
    "f = np.array([[0.,0.,0.] for i in range(nelem+1)])\n",
    "rad = np.ones(nelem) * r0\n",
    "\n",
    "theRod = rod.rod(n=nelem, r=ri, rho=1.0, yng_mod=1.0e1, shr_mod=1.0e1, radii=rad, f_ext=f, gamma=0.0)"
   ]
  },
  {
   "cell_type": "markdown",
   "metadata": {},
   "source": [
    "## Set boundary conditions"
   ]
  },
  {
   "cell_type": "code",
   "execution_count": null,
   "metadata": {},
   "outputs": [],
   "source": [
    "def dirichletBC(my_rod, my_time):\n",
    "    my_rod.v[1] = 0.0 * my_rod.v[1]"
   ]
  },
  {
   "cell_type": "markdown",
   "metadata": {},
   "source": [
    "## Initialize time stepper"
   ]
  },
  {
   "cell_type": "code",
   "execution_count": null,
   "metadata": {},
   "outputs": [],
   "source": [
    "rodRun = verlet.positionVerlet2nd(theRod, dirichletBC)"
   ]
  },
  {
   "cell_type": "code",
   "execution_count": null,
   "metadata": {},
   "outputs": [],
   "source": [
    "from matplotlib import cm\n",
    "import seaborn as sns\n",
    "%matplotlib inline\n",
    "plot = True\n",
    "dump_povray = False\n",
    "\n",
    "my_dt = 5.0e-3\n",
    "t = 0.0\n",
    "t_end = 1.5\n",
    "tstep  = 0\n",
    "tot_it = t_end / my_dt\n",
    "\n",
    "prefix = \"./data/bending/\"\n",
    "color = sns.cubehelix_palette(tot_it)\n",
    "\n",
    "if plot:\n",
    "    %matplotlib notebook\n",
    "    plt.ion()\n",
    "    fig = plt.figure(figsize=(10, 8))\n",
    "    ax = fig.add_subplot(111)\n",
    "    ax.plot(theRod.r[:,0], theRod.r[:,1], 'o-', alpha=tstep/tot_it)\n",
    "\n",
    "while t < t_end:\n",
    "    \n",
    "    rodRun.step(my_dt)\n",
    "    t = t + my_dt\n",
    "    tstep += 1\n",
    "    \n",
    "    if tstep % 10 == 0:\n",
    "        if dump_povray:\n",
    "            dump_snake.dump_snake_to_povray(tstep, theRod.r, np.average(theRod.radii), prefix)\n",
    "        if plot:\n",
    "            ax.plot(theRod.r[:,0], theRod.r[:,1], 'o-', alpha=0.1+0.5*tstep/tot_it, c=color[tstep-1])\n",
    "            ax.set_title(t)\n",
    "            fig.canvas.draw()\n",
    "            fig.canvas.flush_events()\n",
    "\n",
    "%matplotlib inline"
   ]
  },
  {
   "cell_type": "code",
   "execution_count": null,
   "metadata": {},
   "outputs": [],
   "source": [
    "ax.set_title('Bending test: Two-element rod')\n",
    "fig"
   ]
  },
  {
   "cell_type": "code",
   "execution_count": null,
   "metadata": {},
   "outputs": [],
   "source": [
    "fig.savefig('Bending.png', dpi=1200)"
   ]
  },
  {
   "cell_type": "code",
   "execution_count": null,
   "metadata": {},
   "outputs": [],
   "source": []
  }
 ],
 "metadata": {
  "kernelspec": {
   "display_name": "Python 3",
   "language": "python",
   "name": "python3"
  },
  "language_info": {
   "codemirror_mode": {
    "name": "ipython",
    "version": 3
   },
   "file_extension": ".py",
   "mimetype": "text/x-python",
   "name": "python",
   "nbconvert_exporter": "python",
   "pygments_lexer": "ipython3",
   "version": "3.7.4"
  }
 },
 "nbformat": 4,
 "nbformat_minor": 2
}
