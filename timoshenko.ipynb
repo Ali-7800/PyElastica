{
 "cells": [
  {
   "cell_type": "code",
   "execution_count": null,
   "metadata": {},
   "outputs": [],
   "source": [
    "import numpy as np\n",
    "import matplotlib.pyplot as plt\n",
    "import rod\n",
    "import positionVerlet2nd as verlet\n",
    "#from povray_scripts import dump_snake"
   ]
  },
  {
   "cell_type": "markdown",
   "metadata": {},
   "source": [
    "# Initialize rod"
   ]
  },
  {
   "cell_type": "code",
   "execution_count": null,
   "metadata": {},
   "outputs": [],
   "source": [
    "nelem = 50\n",
    "L = 3.\n",
    "externalForce = 15.\n",
    "x = np.linspace(0.,L,nelem+1)\n",
    "ri = np.array([[i,0.,0.] for i in x])\n",
    "f = np.array([[0.,0.,0.] for i in range(nelem+1)])\n",
    "f[-1,1] = -externalForce\n",
    "rad = np.ones(nelem) * 0.25\n",
    "\n",
    "# a = rod(n=nelem, r=ri, rho=1., yng_mod=1., shr_mod=2., radii=rad, f_ext=f ,gamma=0.05)\n",
    "theRod = rod.rod(n=nelem, r=ri, rho=5.0e3, yng_mod=1.0e6, shr_mod=1.0e4, f_ext=f, radii=rad, gamma=0.1)"
   ]
  },
  {
   "cell_type": "markdown",
   "metadata": {},
   "source": [
    "## Set boundary conditions"
   ]
  },
  {
   "cell_type": "code",
   "execution_count": null,
   "metadata": {},
   "outputs": [],
   "source": [
    "def dirichletBC(my_rod, my_time):\n",
    "    my_rod.v[0] = 0.0 * my_rod.v[0]\n",
    "    my_rod.w[0] = 0.0 * my_rod.w[0]"
   ]
  },
  {
   "cell_type": "markdown",
   "metadata": {},
   "source": [
    "## Initialize time stepper"
   ]
  },
  {
   "cell_type": "code",
   "execution_count": null,
   "metadata": {},
   "outputs": [],
   "source": [
    "rodRun = verlet.positionVerlet2nd(theRod, dirichletBC)"
   ]
  },
  {
   "cell_type": "code",
   "execution_count": null,
   "metadata": {},
   "outputs": [],
   "source": [
    "from matplotlib import cm\n",
    "%matplotlib inline\n",
    "plot = True\n",
    "dump_povray = False\n",
    "\n",
    "my_dt = 1.0e-2 * L / nelem\n",
    "t = 0.0\n",
    "t_end = 300.\n",
    "tstep  = 0\n",
    "tot_it = t_end / my_dt\n",
    "\n",
    "prefix = \"./data/timoshenko/\"\n",
    "\n",
    "if plot:\n",
    "    %matplotlib notebook\n",
    "    plt.ion()\n",
    "    fig = plt.figure(figsize=(10, 8))\n",
    "    ax = fig.add_subplot(111)\n",
    "    ax.plot(theRod.r[:,0], theRod.r[:,1], 'ro-')\n",
    "\n",
    "while t < t_end:\n",
    "    \n",
    "    theRod.f_ext[-1,1] = -min(t/100.*externalForce, externalForce)\n",
    "    rodRun.step(my_dt)\n",
    "    t = t + my_dt\n",
    "    tstep += 1\n",
    "    \n",
    "    if tstep % 50 == 0:\n",
    "        if dump_povray:\n",
    "            dump_snake.dump_snake_to_povray(tstep, theRod.r, np.average(theRod.radii), prefix)\n",
    "        if plot:\n",
    "            ax.plot(theRod.r[:,0], theRod.r[:,1], 'o-', alpha=0.1+0.3*tstep/tot_it, c=cm.Blues(tstep/tot_it))\n",
    "            ax.set_title(t)\n",
    "            fig.canvas.draw()\n",
    "            fig.canvas.flush_events()\n",
    "\n",
    "%matplotlib inline"
   ]
  },
  {
   "cell_type": "code",
   "execution_count": null,
   "metadata": {},
   "outputs": [],
   "source": [
    "ax.plot(theRod.r[:,0], theRod.r[:,1], 'g-', label='Simulation')\n",
    "ax.set_xlabel('x')\n",
    "ax.set_ylabel('y')\n",
    "ax.set_title('Timeshenko Beam')"
   ]
  },
  {
   "cell_type": "markdown",
   "metadata": {},
   "source": [
    "# Analytical solution for Timoshenko beam"
   ]
  },
  {
   "cell_type": "code",
   "execution_count": null,
   "metadata": {},
   "outputs": [],
   "source": [
    "s = np.linspace(0.,L,nelem+1)\n",
    "F = externalForce\n",
    "A = theRod.A_org[0]\n",
    "I1 = theRod.I_org[0,0]\n",
    "E = theRod.yng_mod\n",
    "G = theRod.shr_mod\n",
    "y = - F / (4./3. * A * G)*s - F * L / (2. * 1e6 * I1)*s**2 + F / (6. * E * I1) * s**3"
   ]
  },
  {
   "cell_type": "code",
   "execution_count": null,
   "metadata": {},
   "outputs": [],
   "source": [
    "ax.plot(s, y, 'r--', label='Analytical')\n",
    "ax.legend()\n",
    "fig"
   ]
  },
  {
   "cell_type": "code",
   "execution_count": null,
   "metadata": {},
   "outputs": [],
   "source": [
    "%matplotlib inline\n",
    "import seaborn as sns\n",
    "color = sns.color_palette(\"coolwarm\", 7)\n",
    "fig2 = plt.figure(figsize=(10, 8))\n",
    "bx = fig2.add_subplot(111)\n",
    "bx.plot(theRod.r[:,0], theRod.r[:,1], '-', linewidth=1.5, c=color[0], label='Simulation')\n",
    "bx.plot(s, y, '--', linewidth=2., c=color[-1], label='Analytical')\n",
    "bx.legend()\n",
    "bx.set_xlim([0.,3.])\n",
    "bx.set_title('Timoshenko beam: {} elements'.format(nelem))\n",
    "bx.set_xlabel('x')\n",
    "bx.set_ylabel('y')"
   ]
  },
  {
   "cell_type": "code",
   "execution_count": null,
   "metadata": {},
   "outputs": [],
   "source": [
    "fig2.savefig('timoshenko.png', dpi=1200)"
   ]
  },
  {
   "cell_type": "code",
   "execution_count": null,
   "metadata": {},
   "outputs": [],
   "source": [
    "fig.savefig('timoshenko_timeline.png', dpi=1200)"
   ]
  },
  {
   "cell_type": "code",
   "execution_count": null,
   "metadata": {},
   "outputs": [],
   "source": [
    "fig.savefig('timoshenko_timeline.eps', dpi=1200)"
   ]
  },
  {
   "cell_type": "code",
   "execution_count": null,
   "metadata": {},
   "outputs": [],
   "source": []
  },
  {
   "cell_type": "code",
   "execution_count": null,
   "metadata": {},
   "outputs": [],
   "source": []
  }
 ],
 "metadata": {
  "kernelspec": {
   "display_name": "Python 3",
   "language": "python",
   "name": "python3"
  },
  "language_info": {
   "codemirror_mode": {
    "name": "ipython",
    "version": 3
   },
   "file_extension": ".py",
   "mimetype": "text/x-python",
   "name": "python",
   "nbconvert_exporter": "python",
   "pygments_lexer": "ipython3",
   "version": "3.7.3"
  }
 },
 "nbformat": 4,
 "nbformat_minor": 2
}
