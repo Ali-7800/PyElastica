{
 "cells": [
  {
   "cell_type": "code",
   "execution_count": null,
   "metadata": {},
   "outputs": [],
   "source": [
    "import numpy as np\n",
    "import matplotlib.pyplot as plt\n",
    "import rod\n",
    "import positionVerlet2nd as verlet\n",
    "from povray_scripts import dump_snake"
   ]
  },
  {
   "cell_type": "markdown",
   "metadata": {},
   "source": [
    "# Initialize rod"
   ]
  },
  {
   "cell_type": "code",
   "execution_count": null,
   "metadata": {},
   "outputs": [],
   "source": [
    "nelem = 10\n",
    "x = np.linspace(0.,1.,nelem+1)\n",
    "externalForce = 0.001\n",
    "yng_mod = 10.\n",
    "shr_mod = 2.\n",
    "gamma = 0.05\n",
    "\n",
    "ri = np.array([[i,0.,0.] for i in x])\n",
    "f = np.array([[0.,0.,0.] for i in range(nelem+1)])\n",
    "f[-1,0] = externalForce\n",
    "\n",
    "theRod = rod.rod(n=nelem, r=ri, rho=1., yng_mod=yng_mod, shr_mod=shr_mod, f_ext=f ,gamma=gamma)"
   ]
  },
  {
   "cell_type": "markdown",
   "metadata": {},
   "source": [
    "## Set boundary conditions"
   ]
  },
  {
   "cell_type": "code",
   "execution_count": null,
   "metadata": {},
   "outputs": [],
   "source": [
    "def dirichletBC(my_rod, my_time):\n",
    "    my_rod.v[0] = 0.0 * my_rod.v[0]"
   ]
  },
  {
   "cell_type": "markdown",
   "metadata": {},
   "source": [
    "## Initialize time stepper"
   ]
  },
  {
   "cell_type": "code",
   "execution_count": null,
   "metadata": {},
   "outputs": [],
   "source": [
    "rodRun = verlet.positionVerlet2nd(theRod, dirichletBC)"
   ]
  },
  {
   "cell_type": "code",
   "execution_count": null,
   "metadata": {},
   "outputs": [],
   "source": [
    "%matplotlib inline\n",
    "plot = True\n",
    "dump_povray = False\n",
    "\n",
    "my_dt = 1.0e-1 * 1. / nelem\n",
    "t = 0.0\n",
    "t_end = 50.0\n",
    "tstep  = 0\n",
    "tot_it = t_end / my_dt\n",
    "\n",
    "prefix = \"./data/stretch/\"\n",
    "\n",
    "rodlength = []\n",
    "\n",
    "if plot:\n",
    "    %matplotlib notebook\n",
    "    plt.ion()\n",
    "    fig = plt.figure(figsize=(10, 8))\n",
    "    ax = fig.add_subplot(111)\n",
    "    ax.plot(0., theRod.r[-1,0], 'o')\n",
    "\n",
    "while t < t_end:\n",
    "    \n",
    "    rodRun.step(my_dt)\n",
    "    t = t + my_dt\n",
    "    tstep += 1\n",
    "    \n",
    "    if tstep % 50 == 0:\n",
    "        if dump_povray:\n",
    "            dump_snake.dump_snake_to_povray(tstep, theRod.r, np.average(theRod.radii), prefix)\n",
    "        if plot: \n",
    "            ax.plot(t, theRod.r[-1,0], 'bo')\n",
    "            ax.set_title(t)\n",
    "            fig.canvas.draw()\n",
    "            \n",
    "    rodlength.append(np.sum(theRod.l))\n",
    "\n",
    "%matplotlib inline"
   ]
  },
  {
   "cell_type": "code",
   "execution_count": null,
   "metadata": {},
   "outputs": [],
   "source": [
    "plt.plot(rodlength, '')\n",
    "tot_it = t_end / my_dt"
   ]
  },
  {
   "cell_type": "code",
   "execution_count": null,
   "metadata": {},
   "outputs": [],
   "source": [
    "%matplotlib inline\n",
    "import seaborn as sns\n",
    "color = sns.cubehelix_palette(tot_it)\n",
    "fig2 = plt.figure(figsize=(10, 8))\n",
    "bx = fig2.add_subplot(111)\n",
    "bx.plot(np.linspace(0.,t_end,tot_it+1), rodlength, '-', linewidth=1.5, label='Simulation')\n",
    "bx.set_title('Stretching rod: {} elements'.format(nelem))\n",
    "bx.set_xlabel('Timestep')\n",
    "bx.set_ylabel('Rod length (m)')\n",
    "simParam = r\"F = {} N, E = {} Pa, G = {} Pa, $\\gamma$ = {}, dt = {}\".format(externalForce, yng_mod, shr_mod, gamma, my_dt)\n",
    "bx.text(0.3, 0.9, simParam, transform=ax.transAxes, fontsize=12,  bbox={'facecolor':'grey', 'alpha':0.3, 'pad':10})"
   ]
  },
  {
   "cell_type": "code",
   "execution_count": null,
   "metadata": {},
   "outputs": [],
   "source": [
    "fig2.savefig('stretch.eps', dpi=1200)"
   ]
  },
  {
   "cell_type": "code",
   "execution_count": null,
   "metadata": {},
   "outputs": [],
   "source": []
  }
 ],
 "metadata": {
  "kernelspec": {
   "display_name": "Python 3",
   "language": "python",
   "name": "python3"
  },
  "language_info": {
   "codemirror_mode": {
    "name": "ipython",
    "version": 3
   },
   "file_extension": ".py",
   "mimetype": "text/x-python",
   "name": "python",
   "nbconvert_exporter": "python",
   "pygments_lexer": "ipython3",
   "version": "3.7.1"
  }
 },
 "nbformat": 4,
 "nbformat_minor": 2
}
