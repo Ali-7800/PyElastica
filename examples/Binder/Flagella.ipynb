{
 "cells": [
  {
   "cell_type": "code",
   "execution_count": 18,
   "metadata": {},
   "outputs": [],
   "source": [
    "import numpy as np\n",
    "\n",
    "\n",
    "import os\n",
    "from collections import defaultdict\n",
    "from elastica.wrappers import BaseSystemCollection, Constraints, Forcing, CallBacks\n",
    "from elastica.rod.cosserat_rod import CosseratRod\n",
    "from elastica.external_forces import MuscleTorques\n",
    "from elastica.interaction import SlenderBodyTheory\n",
    "from elastica.callback_functions import CallBackBaseClass\n",
    "from elastica.timestepper.symplectic_steppers import PositionVerlet, PEFRL\n",
    "from elastica.timestepper import integrate\n",
    "\n",
    "from matplotlib import pyplot as plt\n",
    "from matplotlib.colors import to_rgb\n",
    "\n",
    "\n"
   ]
  },
  {
   "cell_type": "code",
   "execution_count": null,
   "metadata": {},
   "outputs": [],
   "source": [
    "class FlagellaSimulator(BaseSystemCollection, Constraints, Forcing, CallBacks):\n",
    "    pass\n",
    "\n",
    "flagella_sim = FlagellaSimulator()\n",
    "\n"
   ]
  },
  {
   "cell_type": "code",
   "execution_count": null,
   "metadata": {},
   "outputs": [],
   "source": [
    "# setting up test params\n",
    "n_elem = 50\n",
    "start = np.zeros((3,))\n",
    "direction = np.array([0.0, 0.0, 1.0])\n",
    "normal = np.array([0.0, 1.0, 0.0])\n",
    "base_length = 1.0\n",
    "base_radius = 0.025\n",
    "base_area = np.pi * base_radius ** 2\n",
    "density = 1000\n",
    "nu = 5.0\n",
    "E = 1e7\n",
    "poisson_ratio = 0.5\n",
    "\n",
    "shearable_rod = CosseratRod.straight_rod(\n",
    "    n_elem,\n",
    "    start,\n",
    "    direction,\n",
    "    normal,\n",
    "    base_length,\n",
    "    base_radius,\n",
    "    density,\n",
    "    nu,\n",
    "    E,\n",
    "    poisson_ratio,\n",
    "    )\n",
    "\n",
    "flagella_sim.append(shearable_rod)"
   ]
  },
  {
   "cell_type": "code",
   "execution_count": 20,
   "metadata": {},
   "outputs": [
    {
     "data": {
      "text/plain": [
       "<elastica.wrappers.forcing._ExtForceTorque at 0x122db4850>"
      ]
     },
     "execution_count": 20,
     "metadata": {},
     "output_type": "execute_result"
    }
   ],
   "source": [
    "period = 1.0\n",
    "\n",
    "# Add muscle forces on the rod\n",
    "b_coeff = np.array([17.4, 48.5, 5.4, 14.7, 0.38])\n",
    "wave_length = b_coeff[-1]\n",
    "\n",
    "flagella_sim.add_forcing_to(shearable_rod).using(\n",
    "    MuscleTorques,\n",
    "    base_length=base_length,\n",
    "    b_coeff=b_coeff[:-1],\n",
    "    period=period,\n",
    "    wave_number=2.0 * np.pi / (wave_length),\n",
    "    phase_shift=0.0,\n",
    "    ramp_up_time=period,\n",
    "    direction=normal,\n",
    "    with_spline=True,\n",
    ")\n"
   ]
  },
  {
   "cell_type": "code",
   "execution_count": 53,
   "metadata": {},
   "outputs": [
    {
     "data": {
      "text/plain": [
       "<elastica.wrappers.forcing._ExtForceTorque at 0x123250550>"
      ]
     },
     "execution_count": 53,
     "metadata": {},
     "output_type": "execute_result"
    }
   ],
   "source": [
    "\n",
    "# Add slender body forces\n",
    "fluid_density = 1.0\n",
    "reynolds_number = 1e-4\n",
    "dynamic_viscosity = (fluid_density*base_length**2/(period*reynolds_number))\n",
    "flagella_sim.add_forcing_to(shearable_rod).using(SlenderBodyTheory, dynamic_viscosity=dynamic_viscosity)"
   ]
  },
  {
   "cell_type": "code",
   "execution_count": 21,
   "metadata": {},
   "outputs": [
    {
     "data": {
      "text/plain": [
       "<elastica.wrappers.callbacks._CallBack at 0x1231036d0>"
      ]
     },
     "execution_count": 21,
     "metadata": {},
     "output_type": "execute_result"
    }
   ],
   "source": [
    "# Add call backs\n",
    "class ContinuumFlagellaCallBack(CallBackBaseClass):\n",
    "    \"\"\"\n",
    "    Call back function for continuum flagella\n",
    "    \"\"\"\n",
    "\n",
    "    def __init__(self, step_skip: int, callback_params: dict):\n",
    "        CallBackBaseClass.__init__(self)\n",
    "        self.every = step_skip\n",
    "        self.callback_params = callback_params\n",
    "\n",
    "    def make_callback(self, system, time, current_step: int):\n",
    "\n",
    "        if current_step % self.every == 0:\n",
    "\n",
    "            self.callback_params[\"time\"].append(time)\n",
    "            self.callback_params[\"step\"].append(current_step)\n",
    "            self.callback_params[\"position\"].append(system.position_collection.copy())\n",
    "            self.callback_params[\"velocity\"].append(system.velocity_collection.copy())\n",
    "            self.callback_params[\"avg_velocity\"].append(system.compute_velocity_center_of_mass())\n",
    "            self.callback_params[\"center_of_mass\"].append(system.compute_position_center_of_mass())\n",
    "            \n",
    "            return\n",
    "\n",
    "pp_list = defaultdict(list)\n",
    "flagella_sim.collect_diagnostics(shearable_rod).using(\n",
    "    ContinuumFlagellaCallBack, step_skip=200, callback_params=pp_list\n",
    ")"
   ]
  },
  {
   "cell_type": "code",
   "execution_count": null,
   "metadata": {},
   "outputs": [],
   "source": [
    "flagella_sim.finalize()"
   ]
  },
  {
   "cell_type": "code",
   "execution_count": 22,
   "metadata": {},
   "outputs": [
    {
     "name": "stdout",
     "output_type": "stream",
     "text": [
      "Total steps 200399\n"
     ]
    }
   ],
   "source": [
    "timestepper = PositionVerlet()\n",
    "\n",
    "final_time = (5.0 + 0.01) * period\n",
    "dt = 2.5e-5 * period\n",
    "total_steps = int(final_time / dt)\n",
    "print(\"Total steps\", total_steps)\n",
    "\n"
   ]
  },
  {
   "cell_type": "code",
   "execution_count": 23,
   "metadata": {},
   "outputs": [
    {
     "name": "stderr",
     "output_type": "stream",
     "text": [
      "100%|██████████| 200399/200399 [01:49<00:00, 1837.98it/s]"
     ]
    },
    {
     "name": "stdout",
     "output_type": "stream",
     "text": [
      "Final time of simulation is :  5.009999999967631\n"
     ]
    },
    {
     "name": "stderr",
     "output_type": "stream",
     "text": [
      "\n"
     ]
    }
   ],
   "source": [
    "integrate(timestepper, flagella_sim, final_time, total_steps)\n"
   ]
  },
  {
   "cell_type": "code",
   "execution_count": 24,
   "metadata": {},
   "outputs": [],
   "source": [
    "\n"
   ]
  },
  {
   "cell_type": "code",
   "execution_count": null,
   "metadata": {},
   "outputs": [],
   "source": [
    "def compute_projected_velocity(plot_params: dict, period):\n",
    "\n",
    "    time_per_period = np.array(plot_params[\"time\"]) / period\n",
    "    avg_velocity = np.array(plot_params[\"avg_velocity\"])\n",
    "    center_of_mass = np.array(plot_params[\"center_of_mass\"])\n",
    "\n",
    "    # Compute rod velocity in rod direction. We need to compute that because,\n",
    "    # after snake starts to move it chooses an arbitrary direction, which does not\n",
    "    # have to be initial tangent direction of the rod. Thus we need to project the\n",
    "    # snake velocity with respect to its new tangent and roll direction, after that\n",
    "    # we will get the correct forward and lateral speed. After this projection\n",
    "    # lateral velocity of the snake has to be oscillating between + and - values with\n",
    "    # zero mean.\n",
    "\n",
    "    # Number of steps in one period.\n",
    "    period_step = int(period / (time_per_period[-1] - time_per_period[-2])) + 1\n",
    "    number_of_period = int(time_per_period.shape[0] / period_step)\n",
    "    # Center of mass position averaged in one period\n",
    "    center_of_mass_averaged_over_one_period = np.zeros((number_of_period - 2, 3))\n",
    "    for i in range(1, number_of_period - 1):\n",
    "        # position of center of mass averaged over one period\n",
    "        start = center_of_mass[(i+1)*period_step:(i+2)*period_step]\n",
    "        stop  = center_of_mass[(i+0)*period_step:(i+1)*period_step]\n",
    "        center_of_mass_averaged_over_one_period[i - 1] = np.mean(start - stop, axis=0)\n",
    "\n",
    "    # Average the rod directions over multiple periods and get the direction of the rod.\n",
    "    direction_of_rod = np.mean(center_of_mass_averaged_over_one_period, axis=0)\n",
    "    direction_of_rod /= np.linalg.norm(direction_of_rod, ord=2)\n",
    "\n",
    "    # Compute the projected rod velocity in the direction of the rod\n",
    "    velocity_mag_in_direction_of_rod = np.einsum(\"ji,i->j\", avg_velocity, direction_of_rod)\n",
    "    velocity_in_direction_of_rod = np.einsum(\"j,i->ji\", velocity_mag_in_direction_of_rod, direction_of_rod)\n",
    "\n",
    "    # Get the lateral or roll velocity of the rod after subtracting its projected\n",
    "    # velocity in the direction of rod\n",
    "    velocity_in_rod_roll_dir = avg_velocity - velocity_in_direction_of_rod\n",
    "\n",
    "    # Compute the average velocity over the simulation, this can be used for optimizing snake\n",
    "    # for fastest forward velocity. We start after first period, because of the ramping up happens\n",
    "    # in first period.\n",
    "    average_velocity_over_simulation = np.mean(velocity_in_direction_of_rod[period_step * 2 :], axis=0)\n",
    "\n",
    "    return (\n",
    "        velocity_in_direction_of_rod,\n",
    "        velocity_in_rod_roll_dir,\n",
    "        average_velocity_over_simulation[2],\n",
    "        average_velocity_over_simulation[0],\n",
    "    )"
   ]
  },
  {
   "cell_type": "code",
   "execution_count": 47,
   "metadata": {},
   "outputs": [
    {
     "name": "stdout",
     "output_type": "stream",
     "text": [
      "average forward velocity: 0.013307082535877316 m/s\n",
      "average forward lateral: -2.0551163680770036e-07 m/s\n"
     ]
    },
    {
     "data": {
      "image/png": "[encoded data removed]",
      "text/plain": [
       "<Figure size 750x600 with 1 Axes>"
      ]
     },
     "metadata": {
      "needs_background": "light"
     },
     "output_type": "display_data"
    }
   ],
   "source": [
    "def plot_velocity(plot_params: dict, period, filename=\"velocity.png\", SAVE_FIGURE=False):\n",
    "\n",
    "    time_per_period = np.array(plot_params[\"time\"]) / period\n",
    "    avg_velocity = np.array(plot_params[\"avg_velocity\"])\n",
    "\n",
    "    [velocity_in_direction_of_rod, \n",
    "     velocity_in_rod_roll_dir, _, _,] = compute_projected_velocity(plot_params, period)\n",
    "\n",
    "    fig = plt.figure(figsize=(5,4), frameon=True, dpi=150)\n",
    "    ax = fig.add_subplot(111)\n",
    "    ax.grid(b=True, which=\"major\", color=\"grey\", linestyle=\"-\", linewidth = 0.25)\n",
    "    ax.plot(time_per_period[:], velocity_in_direction_of_rod[:, 2], \"r-\", label=\"forward\")\n",
    "    ax.plot(time_per_period[:], velocity_in_rod_roll_dir[:, 0], \"b-\", label=\"lateral\",)\n",
    "    ax.plot(time_per_period[:], avg_velocity[:, 1], \"g-\", label=\"normal\")\n",
    "    ax.legend(prop={\"size\": 12})\n",
    "    ax.set_ylabel('Velocity (m/s)', fontsize = 12)\n",
    "    ax.set_xlabel('Time (s)', fontsize = 12)\n",
    "    plt.show()\n",
    "\n",
    "    if SAVE_FIGURE:\n",
    "        fig.savefig(filename)\n",
    "\n",
    "# Compute the average forward velocity. These will be used for optimization.\n",
    "[_, _, avg_forward, avg_lateral] = compute_projected_velocity(pp_list, period)\n",
    "\n",
    "print(\"average forward velocity:\", avg_forward, \"m/s\")\n",
    "print(\"average forward lateral:\", avg_lateral, \"m/s\")\n",
    "\n",
    "# Save Options\n",
    "SAVE_FIGURE = False\n",
    "filename_plot = \"continuum_flagella_velocity.png\"\n",
    "plot_velocity(pp_list, period, filename_plot, SAVE_FIGURE)"
   ]
  },
  {
   "cell_type": "code",
   "execution_count": null,
   "metadata": {},
   "outputs": [],
   "source": []
  },
  {
   "cell_type": "code",
   "execution_count": 52,
   "metadata": {},
   "outputs": [
    {
     "name": "stdout",
     "output_type": "stream",
     "text": [
      "plot video\n",
      "finished saving video\n"
     ]
    }
   ],
   "source": [
    "from IPython.display import Video\n",
    "\n",
    "def plot_video(plot_params: dict, video_name=\"video.mp4\", margin=0.2, fps=15):  # (time step, x/y/z, node)\n",
    "    import matplotlib.animation as manimation\n",
    "\n",
    "    positions_over_time = np.array(plot_params[\"position\"])\n",
    "\n",
    "    print(\"plot video\")\n",
    "    FFMpegWriter = manimation.writers[\"ffmpeg\"]\n",
    "    metadata = dict(title=\"Movie Test\", artist=\"Matplotlib\", comment=\"Movie support!\")\n",
    "    writer = FFMpegWriter(fps=fps, metadata=metadata)\n",
    "    fig = plt.figure()\n",
    "    plt.axis(\"equal\")\n",
    "    with writer.saving(fig, video_name, 100):\n",
    "        for time in range(1, len(plot_params[\"time\"])):\n",
    "            x = positions_over_time[time][2]\n",
    "            y = positions_over_time[time][0]\n",
    "            fig.clf()\n",
    "            plt.plot(x, y, \"-\")\n",
    "            plt.xlim([0 - margin, 2.5 + margin])\n",
    "            plt.ylim([-1.25 - margin, 1.25 + margin])\n",
    "            writer.grab_frame()\n",
    "    plt.close(fig)\n",
    "    \n",
    "filename_video = \"continuum_flagella.mp4\"\n",
    "plot_video(pp_list, video_name=filename_video, margin=0.2, fps=200)\n",
    "\n",
    "Video(\"continuum_flagella.mp4\")"
   ]
  },
  {
   "cell_type": "code",
   "execution_count": null,
   "metadata": {},
   "outputs": [],
   "source": []
  },
  {
   "cell_type": "code",
   "execution_count": null,
   "metadata": {},
   "outputs": [],
   "source": [
    "# "
   ]
  },
  {
   "cell_type": "code",
   "execution_count": null,
   "metadata": {},
   "outputs": [],
   "source": []
  },
  {
   "cell_type": "code",
   "execution_count": null,
   "metadata": {},
   "outputs": [],
   "source": []
  }
 ],
 "metadata": {
  "kernelspec": {
   "display_name": "Python 3",
   "language": "python",
   "name": "python3"
  },
  "language_info": {
   "codemirror_mode": {
    "name": "ipython",
    "version": 3
   },
   "file_extension": ".py",
   "mimetype": "text/x-python",
   "name": "python",
   "nbconvert_exporter": "python",
   "pygments_lexer": "ipython3",
   "version": "3.7.7"
  }
 },
 "nbformat": 4,
 "nbformat_minor": 2
}
