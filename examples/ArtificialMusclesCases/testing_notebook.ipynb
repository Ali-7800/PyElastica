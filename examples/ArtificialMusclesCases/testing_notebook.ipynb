{
 "cells": [
  {
   "cell_type": "code",
   "execution_count": 66,
   "metadata": {},
   "outputs": [],
   "source": [
    "import sympy as sp\n",
    "import sympy.vector as vc\n",
    "from examples.ArtificialMusclesCases.muscle.muscle_fiber_init_symbolic import (\n",
    "    get_fiber_geometry_symbolic_representation,\n",
    "    get_fiber_geometry_based_on_symbolic_representation,\n",
    ")\n",
    "from examples.ArtificialMusclesCases import *\n",
    "import numpy as np\n"
   ]
  },
  {
   "cell_type": "code",
   "execution_count": 67,
   "metadata": {},
   "outputs": [
    {
     "name": "stderr",
     "output_type": "stream",
     "text": [
      "100%|██████████| 1/1 [00:00<00:00, 12.18it/s]\n"
     ]
    }
   ],
   "source": [
    "test_muscle = Samuel_monocoil()\n",
    "offset_list = [test_muscle.geometry.angular_offset]\n",
    "# def centerline_f(s,N):\n",
    "#     return sp.cos(10*s)*N.i + sp.sin(10*s)*N.j + 0*N.k\n",
    "\n",
    "def centerline_f(s,N):\n",
    "    return s*N.i + 1e2*s**2*N.j + 0*N.k\n",
    "    \n",
    "position_symbolic,distance_function = get_fiber_geometry_symbolic_representation(\n",
    "    test_muscle.geometry.start_radius_list,\n",
    "    test_muscle.geometry.taper_slope_list,\n",
    "    centerline_f,\n",
    "    offset_list,\n",
    "    test_muscle.geometry.turns_per_length_list,\n",
    "    test_muscle.geometry.CCW_list,)"
   ]
  },
  {
   "cell_type": "code",
   "execution_count": 68,
   "metadata": {},
   "outputs": [
    {
     "name": "stdout",
     "output_type": "stream",
     "text": [
      "3.3306690738754696e-16\n",
      "2.220446049250313e-16\n",
      "-1.0408340855860843e-17\n",
      "-2.740863092043355e-16\n",
      "-1.1102230246251565e-16\n",
      "-1.1102230246251565e-16\n",
      "1.6653345369377348e-16\n",
      "-1.8041124150158794e-16\n",
      "7.632783294297951e-17\n",
      "-3.634245682171411e-16\n",
      "-2.8449465006019636e-16\n",
      "2.220446049250313e-16\n",
      "-1.6653345369377348e-16\n",
      "0.0\n",
      "1.249000902703301e-16\n",
      "0.0\n",
      "-5.551115123125783e-17\n",
      "3.3306690738754696e-16\n",
      "1.3877787807814457e-16\n",
      "-1.0408340855860843e-16\n",
      "5.204170427930421e-18\n",
      "1.682681771697503e-16\n",
      "2.255140518769849e-16\n",
      "4.163336342344337e-17\n",
      "0.0\n",
      "-2.220446049250313e-16\n",
      "5.551115123125783e-17\n",
      "6.245004513516506e-17\n",
      "-5.551115123125783e-16\n",
      "2.220446049250313e-16\n",
      "-1.3877787807814457e-16\n",
      "2.498001805406602e-16\n",
      "-1.2836953722228372e-16\n",
      "-1.3097162243624894e-16\n",
      "-3.469446951953614e-17\n",
      "-3.469446951953614e-17\n",
      "-3.3306690738754696e-16\n",
      "-1.6653345369377348e-16\n",
      "-5.551115123125783e-17\n",
      "1.0408340855860843e-16\n",
      "0.0\n",
      "5.551115123125783e-16\n",
      "-1.942890293094024e-16\n",
      "6.938893903907228e-17\n",
      "4.163336342344337e-17\n",
      "-1.7780915628762273e-16\n",
      "5.551115123125783e-17\n",
      "9.84455572616838e-17\n",
      "2.7755575615628914e-16\n",
      "1.1102230246251565e-16\n",
      "1.1102230246251565e-15\n",
      "2.275957200481571e-15\n",
      "-2.7755575615628914e-16\n",
      "-1.6653345369377348e-16\n",
      "1.942890293094024e-16\n",
      "-1.8735013540549517e-16\n",
      "-1.5959455978986625e-16\n",
      "-1.3270634591222574e-16\n",
      "2.7755575615628914e-17\n",
      "2.636779683484747e-16\n",
      "-8.326672684688674e-17\n",
      "0.0\n",
      "-9.43689570931383e-16\n",
      "-1.734723475976807e-16\n",
      "5.551115123125783e-17\n",
      "-5.551115123125783e-17\n",
      "-8.326672684688674e-17\n",
      "-5.551115123125783e-17\n",
      "-4.85722573273506e-17\n",
      "-3.2715800554750096e-17\n",
      "-1.5265566588595902e-16\n",
      "0.0\n",
      "-1.1102230246251565e-16\n",
      "-4.440892098500626e-16\n",
      "2.7755575615628914e-16\n",
      "-2.137179322404977e-15\n",
      "1.6653345369377348e-16\n",
      "1.1102230246251565e-16\n",
      "-1.942890293094024e-16\n",
      "-3.122502256758253e-16\n",
      "1.3877787807814457e-16\n",
      "-7.583994196536104e-17\n",
      "9.71445146547012e-17\n",
      "9.71445146547012e-17\n",
      "8.326672684688674e-17\n",
      "-6.106226635438361e-16\n",
      "1.1102230246251565e-16\n",
      "-3.703634621210483e-16\n",
      "9.43689570931383e-16\n",
      "0.0\n",
      "0.0\n",
      "1.491862189340054e-16\n",
      "-7.632783294297951e-17\n",
      "-2.19225679276569e-16\n",
      "0.0\n",
      "3.469446951953614e-17\n",
      "9.71445146547012e-17\n",
      "-3.3306690738754696e-16\n",
      "0.0\n",
      "-2.0816681711721685e-16\n",
      "1.6653345369377348e-16\n",
      "4.440892098500626e-16\n",
      "1.6653345369377348e-16\n",
      "-8.153200337090993e-17\n",
      "-1.3183898417423734e-16\n",
      "2.3158558404290375e-16\n",
      "6.938893903907228e-18\n",
      "-1.0408340855860843e-16\n",
      "-2.220446049250313e-16\n",
      "-3.0531133177191805e-16\n",
      "-5.551115123125783e-17\n",
      "9.037909309839165e-16\n",
      "-3.0531133177191805e-16\n",
      "-6.106226635438361e-16\n",
      "2.7755575615628914e-17\n",
      "-3.86843335142828e-16\n",
      "4.163336342344337e-17\n",
      "-6.071532165918825e-18\n",
      "1.8041124150158794e-16\n",
      "5.551115123125783e-17\n",
      "3.469446951953614e-17\n",
      "5.551115123125783e-17\n",
      "-2.7755575615628914e-16\n",
      "-2.393918396847994e-16\n",
      "0.0\n",
      "-2.7755575615628914e-17\n",
      "-2.220446049250313e-16\n",
      "1.5785983631388945e-16\n",
      "-4.163336342344337e-17\n",
      "6.852157730108388e-17\n",
      "2.7755575615628914e-17\n",
      "1.3877787807814457e-16\n",
      "-3.469446951953614e-17\n",
      "1.3877787807814457e-16\n",
      "-1.3877787807814457e-16\n",
      "5.065392549852277e-16\n",
      "-9.783840404509192e-16\n",
      "-1.942890293094024e-16\n",
      "-2.7755575615628914e-16\n",
      "-1.43982048506075e-16\n",
      "-6.245004513516506e-17\n",
      "-2.723515857283587e-16\n",
      "-1.960237527853792e-16\n",
      "9.020562075079397e-17\n",
      "2.42861286636753e-16\n",
      "-2.7755575615628914e-17\n",
      "-3.0531133177191805e-16\n",
      "7.632783294297951e-17\n",
      "-4.3021142204224816e-16\n",
      "1.6653345369377348e-16\n",
      "Intrinsic_link_per_length:-57.378495996979154\n",
      "Coil Twist = 32.16448939261887\n",
      "Overall Twist/length = 412.69139646214774\n"
     ]
    }
   ],
   "source": [
    "muscle_length = test_muscle.geometry.muscle_length\n",
    "n_elem = int(test_muscle.sim_settings.n_elem_per_coil*test_muscle.geometry.turns_per_length_list[0]*muscle_length)\n",
    "fiber_length, start, position_collection, director_collection, intrinsic_link, injected_twist = get_fiber_geometry_based_on_symbolic_representation(\n",
    "    distance_function,\n",
    "    position_symbolic,\n",
    "    n_elem,\n",
    "    test_muscle.geometry.start_radius_list,\n",
    "    test_muscle.geometry.taper_slope_list,\n",
    "    np.zeros(3),\n",
    "    offset_list,\n",
    "    muscle_length,\n",
    "    np.array(test_muscle.geometry.turns_per_length_list),\n",
    "    test_muscle.geometry.initial_link_per_fiber_length,\n",
    "    test_muscle.geometry.CCW_list,\n",
    "    check_twist_difference=False,\n",
    "    )"
   ]
  },
  {
   "cell_type": "code",
   "execution_count": 69,
   "metadata": {},
   "outputs": [],
   "source": [
    "import matplotlib.pyplot as plt\n",
    "%matplotlib inline\n",
    "\n"
   ]
  },
  {
   "cell_type": "code",
   "execution_count": 70,
   "metadata": {},
   "outputs": [
    {
     "data": {
      "text/plain": [
       "(3, 151)"
      ]
     },
     "execution_count": 70,
     "metadata": {},
     "output_type": "execute_result"
    }
   ],
   "source": [
    "position_collection.shape"
   ]
  },
  {
   "cell_type": "code",
   "execution_count": 71,
   "metadata": {},
   "outputs": [
    {
     "data": {
      "image/png": "[encoded data removed]",
      "text/plain": [
       "<Figure size 640x480 with 1 Axes>"
      ]
     },
     "metadata": {},
     "output_type": "display_data"
    }
   ],
   "source": [
    "ax = plt.figure().add_subplot()\n",
    "# ax = plt.figure().add_subplot(projection='3d')\n",
    "# ax.plot(position_collection[0,:],position_collection[1,:],position_collection[2,:])\n",
    "ax.plot(position_collection[0,:],position_collection[1,:])\n",
    "s = sp.symbols(\"s\")\n",
    "N = vc.CoordSys3D(\"N\")\n",
    "def np_lambdify(varname, func):\n",
    "    lamb = sp.lambdify(varname, func, modules=['numpy'])\n",
    "    if func.is_constant():\n",
    "        return lambda t: np.full_like(t, lamb(t))\n",
    "    else:\n",
    "        return lambda t: lamb(np.array(t))\n",
    "centerline_x = np_lambdify(s, centerline_f(s,N) & N.i)\n",
    "centerline_y = np_lambdify(s, centerline_f(s,N) & N.j)\n",
    "S = np.linspace(0,muscle_length,n_elem)\n",
    "ax.plot(centerline_x(S),centerline_y(S))\n",
    "ax.axis('equal')\n",
    "\n",
    "plt.show()"
   ]
  }
 ],
 "metadata": {
  "kernelspec": {
   "display_name": "Python 3.8.0 ('pyelastica-dev-muscle')",
   "language": "python",
   "name": "python3"
  },
  "language_info": {
   "codemirror_mode": {
    "name": "ipython",
    "version": 3
   },
   "file_extension": ".py",
   "mimetype": "text/x-python",
   "name": "python",
   "nbconvert_exporter": "python",
   "pygments_lexer": "ipython3",
   "version": "3.8.19"
  },
  "orig_nbformat": 4,
  "vscode": {
   "interpreter": {
    "hash": "b1874e86437a21d6e4201e55ee5b89e59630c425f58472a3e01a2e681d136bf2"
   }
  }
 },
 "nbformat": 4,
 "nbformat_minor": 2
}
